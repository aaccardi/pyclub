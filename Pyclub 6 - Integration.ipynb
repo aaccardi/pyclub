{
 "cells": [
  {
   "cell_type": "code",
   "execution_count": 1,
   "metadata": {
    "collapsed": true
   },
   "outputs": [],
   "source": [
    "import numpy as np\n",
    "import pylab as py\n",
    "#import scipy as sp\n",
    "import matplotlib.pyplot as plt\n",
    "%matplotlib inline"
   ]
  },
  {
   "cell_type": "markdown",
   "metadata": {},
   "source": [
    "## This is a level 2 header\n",
    "\n",
    "This is text, and a list:\n",
    "* item 1\n",
    "* item 2\n",
    "\n",
    "And now we __stop!!!__\n",
    "\n",
    "Not write, *we wanted also to italicize....*\n",
    "\n",
    "Now we stop.\n",
    "\n",
    "Try latex $ \\sqrt 2 $"
   ]
  },
  {
   "cell_type": "markdown",
   "metadata": {},
   "source": [
    "# Integration - trapezoid rule"
   ]
  },
  {
   "cell_type": "markdown",
   "metadata": {},
   "source": [
    "Define the function you wish to integrate:"
   ]
  },
  
  \section{Trapezoidal Rule}
If we have a function $f(x)$, and let's say we need to get the integration result.
$$\int_{a}^{b} f(x) dx$$
\begin{enumerate}
\item Define the $\Delta x$ , i.e $\Delta x = \frac{b-a}{N}$, where $N$ is the number of points.
\item Then if we think step-by step, \\
$y_0=f(a)$\\
$y_1=f(a+\Delta x)$\\
$y_2=f(a+2 \Delta x)$\\
$y_3=f(a+ 3 \Delta x)$\\
...\\
...\\
$y_{N-1}=f(a+(N-1)\Delta x)$\\
$y_N=f(b)$
\item Then think about the area of a trapezoid. $$\text{Area} = \frac{\text{Addition of the lengths of two parallel lines}}{2}\times(\text{displacement between those parallel lines})$$
\item Therefore the result should be,
\begin{equation}
\int_{a}^{b} f(x) dx = \Delta x \left( \frac{y_0}{2}  + y_1 +y_2 +y_3 +......+\frac{y_N}{2}  \right)
\end{equation}
\begin{equation}
\int_{a}^{b} f(x) dx = \Delta x \left( \frac{f(a)}{2}  + \sum_{i=1}^{N-1}f\left( a + i (\Delta x) \right)+\frac{f(b)}{2}  \right)
\end{equation}
\end{enumerate}

  
  
  
  
  {
   "cell_type": "code",
   "execution_count": 2,
   "metadata": {
    "collapsed": true
   },
   "outputs": [],
   "source": [
    "def f(x):\n",
    "    return 3.*x**2"
   ]
  },
  {
   "cell_type": "markdown",
   "metadata": {},
   "source": [
    "### Old style (Fortran-like) for loops"
   ]
  },
  {
   "cell_type": "code",
   "execution_count": 3,
   "metadata": {
    "collapsed": true
   },
   "outputs": [],
   "source": [
    "def trapezoid_old(f, a, b, n):\n",
    "    h = float(b - a) / n\n",
    "    s = 0.0\n",
    "    s =s + f(a)/2.0\n",
    "    for i in range(1, n):\n",
    "        s = s +f(a + i*h)\n",
    "        #print i\n",
    "    s = s + f(b)/2.0\n",
    "    return s * h"
   ]
  },
  {
   "cell_type": "code",
   "execution_count": 4,
   "metadata": {
    "collapsed": false
   },
   "outputs": [
    {
     "name": "stdout",
     "output_type": "stream",
     "text": [
      "1.005\n"
     ]
    }
   ],
   "source": [
    "N = 10\n",
    "print trapezoid_old(f,0.,1.,N)"
   ]
  },
  {
   "cell_type": "markdown",
   "metadata": {},
   "source": [
    "### A more pythonesque way"
   ]
  },
  {
   "cell_type": "markdown",
   "metadata": {},
   "source": [
    "Note:\n",
    "* the syntax reflecting almost verbatim the math formula\n",
    "* the optional parameters a,b,n with default values"
   ]
  },
  {
   "cell_type": "code",
   "execution_count": 5,
   "metadata": {
    "collapsed": false
   },
   "outputs": [],
   "source": [
    "def trapezoid(f,a=0.,b=1.,n=10):\n",
    "    dx = float(b-a)/n\n",
    "    x = a + np.linspace(0.,1.,n+1)\n",
    "    y = f(x)\n",
    "    area = dx * (np.sum(y)-0.5*(y[0]+y[n]))\n",
    "\n",
    "    return area"
   ]
  },
  {
   "cell_type": "code",
   "execution_count": 10,
   "metadata": {
    "collapsed": false
   },
   "outputs": [
    {
     "name": "stdout",
     "output_type": "stream",
     "text": [
      "1.005\n",
      "1.005\n",
      "1.005\n",
      "1.005\n"
     ]
    }
   ],
   "source": [
    "N = 10\n",
    "print trapezoid(f,a=0.,b=1.,n=N)\n",
    "print trapezoid(f,0.,1.,N)\n",
    "print trapezoid(f)\n",
    "print trapezoid(f,n=N,b=1.,a=0.)"
   ]
  },
  {
   "cell_type": "markdown",
   "metadata": {},
   "source": [
    "Note:\n",
    "* the labels of the ptional parameters can be omitted if the order is respected.\n",
    "* one can avoid to specify a,b,n if the default values are ok. \n",
    "* With the labels, one can reorder them the way one wants. "
   ]
  },
  {
   "cell_type": "markdown",
   "metadata": {},
   "source": [
    "### Using the Numpy library"
   ]
  },
  {
   "cell_type": "code",
   "execution_count": 10,
   "metadata": {
    "collapsed": false
   },
   "outputs": [
    {
     "name": "stdout",
     "output_type": "stream",
     "text": [
      "1.005\n"
     ]
    }
   ],
   "source": [
    "x1 = np.linspace(0,1,N+1)\n",
    "print np.trapz(f(x1),x1)"
   ]
  },
  {
   "cell_type": "markdown",
   "metadata": {
    "collapsed": true
   },
   "source": [
    "Pros:\n",
    "* One can pass any kind of y,x input to be integrated, not only a function\n",
    "\n",
    "Cons:\n",
    "* Need to manually generate a list of x values every time"
   ]
  },
  {
   "cell_type": "markdown",
   "metadata": {},
   "source": [
    "### Combining things\n",
    "But of course, one can also define:"
   ]
  },
  {
   "cell_type": "code",
   "execution_count": 11,
   "metadata": {
    "collapsed": true
   },
   "outputs": [],
   "source": [
    "def trapezoid_2(f,a=0.,b=1.,n=10):\n",
    "    x1 = np.linspace(a,b,n+1)\n",
    "    return np.trapz(f(x1),x1)"
   ]
  },
  {
   "cell_type": "code",
   "execution_count": 13,
   "metadata": {
    "collapsed": false
   },
   "outputs": [
    {
     "name": "stdout",
     "output_type": "stream",
     "text": [
      "1.005\n"
     ]
    }
   ],
   "source": [
    "print trapezoid_2(f,0.,1.,10)"
   ]
  }
 ],
 "metadata": {
  "kernelspec": {
   "display_name": "Python 2",
   "language": "python2",
   "name": "python2"
  },
  "language_info": {
   "codemirror_mode": {
    "name": "ipython",
    "version": 2
   },
   "file_extension": ".py",
   "mimetype": "text/x-python",
   "name": "python",
   "nbconvert_exporter": "python",
   "pygments_lexer": "ipython2",
   "version": "2.7.11"
  }
 },
 "nbformat": 4,
 "nbformat_minor": 0
}

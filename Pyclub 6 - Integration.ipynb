{
 "cells": [
  {
   "cell_type": "code",
   "execution_count": 4,
   "metadata": {
    "collapsed": true
   },
   "outputs": [],
   "source": [
    "import numpy as np\n",
    "import pylab as py\n",
    "#import scipy as sp\n",
    "import matplotlib.pyplot as plt\n",
    "%matplotlib inline"
   ]
  },
  {
   "cell_type": "markdown",
   "metadata": {},
   "source": [
    "## This is a level 2 header\n",
    "\n",
    "This is text, and a list:\n",
    "* item 1\n",
    "* item 2\n",
    "\n",
    "And now we __stop!!!__\n",
    "\n",
    "Not write, *we wanted also to italicize....*\n",
    "\n",
    "Now we stop.\n",
    "\n",
    "Try latex $ \\sqrt 2 $"
   ]
  },
  {
   "cell_type": "markdown",
   "metadata": {},
   "source": [
    "# Integration - trapezoid rule"
   ]
  },
  {
   "cell_type": "markdown",
   "metadata": {},
   "source": [
    "Define the function you wish to integrate:"
   ]
  },
  {
   "cell_type": "code",
   "execution_count": 5,
   "metadata": {
    "collapsed": true
   },
   "outputs": [],
   "source": [
    "def f(x):\n",
    "    return 3.*x**2"
   ]
  },
  {
   "cell_type": "markdown",
   "metadata": {},
   "source": [
    "### Old style (Fortran-like) for loops"
   ]
  },
  {
   "cell_type": "code",
   "execution_count": 3,
   "metadata": {
    "collapsed": true
   },
   "outputs": [],
   "source": [
    "def trapezoid_old(f, a, b, n):\n",
    "    h = float(b - a) / n\n",
    "    s = 0.0\n",
    "    s =s + f(a)/2.0\n",
    "    for i in range(1, n):\n",
    "        s = s +f(a + i*h)\n",
    "        #print i\n",
    "    s = s + f(b)/2.0\n",
    "    return s * h"
   ]
  },
  {
   "cell_type": "code",
   "execution_count": 4,
   "metadata": {
    "collapsed": false
   },
   "outputs": [
    {
     "name": "stdout",
     "output_type": "stream",
     "text": [
      "1.005\n"
     ]
    }
   ],
   "source": [
    "N = 10\n",
    "print trapezoid_old(f,0.,1.,N)"
   ]
  },
  {
   "cell_type": "markdown",
   "metadata": {},
   "source": [
    "### A more pythonesque way"
   ]
  },
  {
   "cell_type": "markdown",
   "metadata": {},
   "source": [
    "Note:\n",
    "* the syntax reflecting almost verbatim the math formula\n",
    "* the optional parameters a,b,n with default values"
   ]
  },
  {
   "cell_type": "code",
   "execution_count": 5,
   "metadata": {
    "collapsed": false
   },
   "outputs": [],
   "source": [
    "def trapezoid(f,a=0.,b=1.,n=10):\n",
    "    dx = float(b-a)/n\n",
    "    x = a + np.linspace(0.,1.,n+1)\n",
    "    y = f(x)\n",
    "    area = dx * (np.sum(y)-0.5*(y[0]+y[n]))\n",
    "\n",
    "    return area"
   ]
  },
  {
   "cell_type": "code",
   "execution_count": 10,
   "metadata": {
    "collapsed": false
   },
   "outputs": [
    {
     "name": "stdout",
     "output_type": "stream",
     "text": [
      "1.005\n",
      "1.005\n",
      "1.005\n",
      "1.005\n"
     ]
    }
   ],
   "source": [
    "N = 10\n",
    "print trapezoid(f,a=0.,b=1.,n=N)\n",
    "print trapezoid(f,0.,1.,N)\n",
    "print trapezoid(f)\n",
    "print trapezoid(f,n=N,b=1.,a=0.)"
   ]
  },
  {
   "cell_type": "markdown",
   "metadata": {},
   "source": [
    "Note:\n",
    "* the labels of the ptional parameters can be omitted if the order is respected.\n",
    "* one can avoid to specify a,b,n if the default values are ok. \n",
    "* With the labels, one can reorder them the way one wants. "
   ]
  },
  {
   "cell_type": "markdown",
   "metadata": {},
   "source": [
    "### Using the Numpy library"
   ]
  },
  {
   "cell_type": "code",
   "execution_count": 10,
   "metadata": {
    "collapsed": false
   },
   "outputs": [
    {
     "name": "stdout",
     "output_type": "stream",
     "text": [
      "1.005\n"
     ]
    }
   ],
   "source": [
    "x1 = np.linspace(0,1,N+1)\n",
    "print np.trapz(f(x1),x1)"
   ]
  },
  {
   "cell_type": "markdown",
   "metadata": {
    "collapsed": true
   },
   "source": [
    "Pros:\n",
    "* One can pass any kind of y,x input to be integrated, not only a function\n",
    "\n",
    "Cons:\n",
    "* Need to manually generate a list of x values every time"
   ]
  },
  {
   "cell_type": "markdown",
   "metadata": {},
   "source": [
    "### Combining things\n",
    "But of course, one can also define:"
   ]
  },
  {
   "cell_type": "code",
   "execution_count": 11,
   "metadata": {
    "collapsed": true
   },
   "outputs": [],
   "source": [
    "def trapezoid_2(f,a=0.,b=1.,n=10):\n",
    "    x1 = np.linspace(a,b,n+1)\n",
    "    return np.trapz(f(x1),x1)"
   ]
  },
  {
   "cell_type": "code",
   "execution_count": 13,
   "metadata": {
    "collapsed": false
   },
   "outputs": [
    {
     "name": "stdout",
     "output_type": "stream",
     "text": [
      "1.005\n"
     ]
    }
   ],
   "source": [
    "print trapezoid_2(f,0.,1.,10)"
   ]
  },
  {
   "cell_type": "code",
   "execution_count": null,
   "metadata": {
    "collapsed": true
   },
   "outputs": [],
   "source": []
  },
  {
   "cell_type": "markdown",
   "metadata": {},
   "source": [
    "# Simpson's rule"
   ]
  },
  {
   "cell_type": "markdown",
   "metadata": {},
   "source": [
    "A sbefore, we want again to approximate \n",
    "\\begin{align}\n",
    "  I = \\int_a^b f(x) dx\n",
    "\\end{align}\n",
    "The idea now is to approximate the area under a curve around at given ppoint h by a parabola passing through $y_0=f(x-h)$,  $y_1=f(x)$ and $y_2=f(x+h)$, one obtains\n",
    "\n",
    "......\n",
    "\n",
    "and summing all the areas together we have:\n",
    "\\begin{equation}\n",
    " I \\approx A = \\frac h3 \\left[y_0 + 4\\!\\!\\!\\!\\sum_{i=1}^\\rm{odd\\ terms} + 2\\!\\!\\!\\!\\sum _{j=2}^\\rm{even\\ terms} y_j + y_n   \\right]\n",
    "\\end{equation}\n",
    "__NOTE:__ $n$ must be even\n",
    "\n",
    "This is the formula we want to calculate."
   ]
  },
  {
   "cell_type": "markdown",
   "metadata": {},
   "source": [
    "### Ishara's way"
   ]
  },
  {
   "cell_type": "code",
   "execution_count": 43,
   "metadata": {
    "collapsed": true
   },
   "outputs": [],
   "source": [
    "def simpson_ishara(f,a,b,N):\n",
    "    h = float(b-a)/N\n",
    "    S = 0.0\n",
    "    Sodd = 0.0\n",
    "    Seven = 0.0\n",
    "    # The sum over odd integers\n",
    "    for i in range(1,N/2+1):\n",
    "        Sodd = Sodd + 4*f(a+(2*i-1)*h)\n",
    "    # The sum over even integers\n",
    "    for i in range(1,N/2):\n",
    "        Seven = Seven + 2*f(a+(2*i)*h)\n",
    "    # summing the pieces together\n",
    "        S = f(a) + Seven + Sodd + f(b)\n",
    "        \n",
    "    return h/3*S"
   ]
  },
  {
   "cell_type": "code",
   "execution_count": 48,
   "metadata": {
    "collapsed": false
   },
   "outputs": [
    {
     "name": "stdout",
     "output_type": "stream",
     "text": [
      "1.0\n"
     ]
    }
   ],
   "source": [
    "print simpson_ishara(f,0,1,4)"
   ]
  },
  {
   "cell_type": "markdown",
   "metadata": {},
   "source": [
    "### Alberto's way"
   ]
  },
  {
   "cell_type": "code",
   "execution_count": 78,
   "metadata": {
    "collapsed": false
   },
   "outputs": [],
   "source": [
    "def simpson(f,a=0.,b=1.,n=100):\n",
    "    if (n%2): n=n+1  # makes even an odd input n\n",
    "    h = float(b-a)/n\n",
    "    x = a + np.linspace(0.,1.,n+1)\n",
    "    y = f(x)\n",
    "    area = h/3 * (y[0] + 4*np.sum(y[1:n:2]) + 2*np.sum(y[2:n-1:2]) + y[n])\n",
    "    #print y\n",
    "    #print y[1:n:2]\n",
    "    #print y[2:n-1:2]\n",
    "    \n",
    "    return area"
   ]
  },
  {
   "cell_type": "code",
   "execution_count": 79,
   "metadata": {
    "collapsed": false,
    "scrolled": false
   },
   "outputs": [
    {
     "name": "stdout",
     "output_type": "stream",
     "text": [
      "1.0\n"
     ]
    }
   ],
   "source": [
    "print simpson(f,n=10)"
   ]
  },
  {
   "cell_type": "markdown",
   "metadata": {},
   "source": [
    "__Note:__ if one tries to integrate a quadratic function teh Simpson's way, one obtain an exact result. This is waht I get here using the $f(x) = x^2/3$ defined at the beginning of the notebook."
   ]
  },
  {
   "cell_type": "code",
   "execution_count": null,
   "metadata": {
    "collapsed": true
   },
   "outputs": [],
   "source": []
  }
 ],
 "metadata": {
  "kernelspec": {
   "display_name": "Python 2",
   "language": "python2",
   "name": "python2"
  },
  "language_info": {
   "codemirror_mode": {
    "name": "ipython",
    "version": 2
   },
   "file_extension": ".py",
   "mimetype": "text/x-python",
   "name": "python",
   "nbconvert_exporter": "python",
   "pygments_lexer": "ipython2",
   "version": "2.7.11"
  }
 },
 "nbformat": 4,
 "nbformat_minor": 0
}

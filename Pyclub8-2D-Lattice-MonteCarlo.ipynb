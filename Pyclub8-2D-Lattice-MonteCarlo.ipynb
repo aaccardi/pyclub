{
 "cells": [
  {
   "cell_type": "markdown",
   "metadata": {},
   "source": [
    "## The objective of the following python code is to find the spin configuration which has the minimum energy"
   ]
  },
  {
   "cell_type": "markdown",
   "metadata": {},
   "source": [
    "### First of all we ned to import the useful python libraries"
   ]
  },
  {
   "cell_type": "code",
   "execution_count": 2,
   "metadata": {
    "collapsed": true
   },
   "outputs": [],
   "source": [
    "import numpy as  np\n",
    "import random"
   ]
  },
  {
   "cell_type": "markdown",
   "metadata": {},
   "source": [
    "### Now, we need to define the spin vector as follows,"
   ]
  },
  {
   "cell_type": "code",
   "execution_count": 3,
   "metadata": {
    "collapsed": true
   },
   "outputs": [],
   "source": [
    "spin=[-1,1]"
   ]
  },
  {
   "cell_type": "markdown",
   "metadata": {},
   "source": [
    "### The size of the 2-D lattice is define by it's length \"L\"; assuming that it is a square lattice,\n",
    "### And then we difined a 2-D array \"u\" which has  L$\\times$ L lattice points, each has a spin value (i.e either -1 or +1) "
   ]
  },
  {
   "cell_type": "code",
   "execution_count": 4,
   "metadata": {
    "collapsed": true
   },
   "outputs": [],
   "source": [
    "L=10\n",
    "u=[[random.choice(spin) for i in range(0,L)] for j in range(0,L)]"
   ]
  },
  {
   "cell_type": "markdown",
   "metadata": {},
   "source": [
    "### The result can be given as  follows,"
   ]
  },
  {
   "cell_type": "code",
   "execution_count": 5,
   "metadata": {
    "collapsed": false
   },
   "outputs": [
    {
     "data": {
      "text/plain": [
       "[[-1, 1, -1, 1, -1, 1, -1, -1, -1, 1],\n",
       " [1, 1, 1, 1, 1, -1, 1, 1, -1, -1],\n",
       " [-1, -1, -1, -1, 1, 1, 1, 1, -1, 1],\n",
       " [-1, 1, 1, -1, -1, -1, -1, -1, -1, -1],\n",
       " [1, 1, 1, -1, -1, 1, -1, 1, 1, 1],\n",
       " [1, -1, 1, -1, -1, 1, -1, 1, 1, -1],\n",
       " [-1, -1, -1, -1, 1, -1, 1, -1, 1, -1],\n",
       " [-1, 1, -1, -1, -1, 1, 1, -1, -1, 1],\n",
       " [1, 1, -1, 1, 1, 1, 1, -1, -1, 1],\n",
       " [1, 1, 1, 1, 1, 1, 1, -1, 1, -1]]"
      ]
     },
     "execution_count": 5,
     "metadata": {},
     "output_type": "execute_result"
    }
   ],
   "source": [
    "u"
   ]
  },
  {
   "cell_type": "markdown",
   "metadata": {},
   "source": [
    "### Now, there is an issue : we haven't considered the boundary conditions. \n",
    "### So, we imposed the \"periodic boundary conditions\" by defining a function called \"periodicspin(s)\" as follows,"
   ]
  },
  {
   "cell_type": "code",
   "execution_count": 6,
   "metadata": {
    "collapsed": true
   },
   "outputs": [],
   "source": [
    "def periodicspin(s):\n",
    "    for n in range(0,L):\n",
    "        s[n][L-1]=s[n][0]\n",
    "        s[L-1][n]=s[0][n]\n",
    "    return s    \n"
   ]
  },
  {
   "cell_type": "markdown",
   "metadata": {},
   "source": [
    "### Let's define the Hamiltonian,"
   ]
  },
  {
   "cell_type": "code",
   "execution_count": 7,
   "metadata": {
    "collapsed": true
   },
   "outputs": [],
   "source": [
    "def H(s):\n",
    "    h=0\n",
    "    for i in range(0,L-1):\n",
    "        for j in range(0,L-1):\n",
    "            #h=h-(s[i][j])*(s[i+1][j]+s[i][j+1])\n",
    "            h=h-(s[i][j])*(1+ s[i+1][j]+s[i][j+1])\n",
    "            # Ferromagnet for +\n",
    "            # Anti ferromagnet for -\n",
    "            \n",
    "    return h "
   ]
  },
  {
   "cell_type": "markdown",
   "metadata": {},
   "source": [
    "### Main program\n",
    "#### Using two \"for\" loops , we can sweep through the all lattice points.\n",
    "#### First, we calculate the current Energy of the lattice points using the Hamiltonian and assigned into \"Haux\", Then we select a spin value randomely among the two possibilities for the particular entry; which is \"Saux\". Before replacing it, we save the existing value as \"temp\". Now, we can assign the new value \"Saux\" to the lattice location u [ i ] [ j ] and can calculate the Total enegy. Comparing the Energy of the previous and updated lattice point we can determine whether we are going to update that point or not with the new random spin."
   ]
  },
  {
   "cell_type": "code",
   "execution_count": 8,
   "metadata": {
    "collapsed": true
   },
   "outputs": [],
   "source": [
    "for NN in range(0,10):\n",
    "    \n",
    "    for i in range(0,L):\n",
    "        for j in range(0,L):\n",
    "            #t=[]\n",
    "            Haux=H(periodicspin(u))\n",
    "            Saux=random.choice(spin)\n",
    "            temp=u[i][j]\n",
    "            u[i][j]=Saux\n",
    "            \n",
    "            if H(periodicspin(u))>=Haux:\n",
    "                u[i][j]=temp\n",
    "                \n",
    "            U=periodicspin(u)"
   ]
  },
  {
   "cell_type": "markdown",
   "metadata": {},
   "source": [
    "#### Let's check the total energy of the last configuration"
   ]
  },
  {
   "cell_type": "code",
   "execution_count": 9,
   "metadata": {
    "collapsed": false
   },
   "outputs": [
    {
     "name": "stdout",
     "output_type": "stream",
     "text": [
      "-243\n"
     ]
    }
   ],
   "source": [
    "print H(periodicspin(U))    "
   ]
  },
  {
   "cell_type": "markdown",
   "metadata": {},
   "source": [
    "#### Let's display the last configuration"
   ]
  },
  {
   "cell_type": "code",
   "execution_count": 10,
   "metadata": {
    "collapsed": false
   },
   "outputs": [
    {
     "name": "stdout",
     "output_type": "stream",
     "text": [
      "[[1 1 1 1 1 1 1 1 1 1]\n",
      " [1 1 1 1 1 1 1 1 1 1]\n",
      " [1 1 1 1 1 1 1 1 1 1]\n",
      " [1 1 1 1 1 1 1 1 1 1]\n",
      " [1 1 1 1 1 1 1 1 1 1]\n",
      " [1 1 1 1 1 1 1 1 1 1]\n",
      " [1 1 1 1 1 1 1 1 1 1]\n",
      " [1 1 1 1 1 1 1 1 1 1]\n",
      " [1 1 1 1 1 1 1 1 1 1]\n",
      " [1 1 1 1 1 1 1 1 1 1]]\n"
     ]
    }
   ],
   "source": [
    "print np.matrix(U)  "
   ]
  },
  {
   "cell_type": "code",
   "execution_count": null,
   "metadata": {
    "collapsed": true
   },
   "outputs": [],
   "source": []
  }
 ],
 "metadata": {
  "kernelspec": {
   "display_name": "Python 2",
   "language": "python",
   "name": "python2"
  },
  "language_info": {
   "codemirror_mode": {
    "name": "ipython",
    "version": 2
   },
   "file_extension": ".py",
   "mimetype": "text/x-python",
   "name": "python",
   "nbconvert_exporter": "python",
   "pygments_lexer": "ipython2",
   "version": "2.7.10"
  }
 },
 "nbformat": 4,
 "nbformat_minor": 0
}

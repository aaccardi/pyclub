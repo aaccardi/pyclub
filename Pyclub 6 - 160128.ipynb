{
 "cells": [
  {
   "cell_type": "code",
   "execution_count": 3,
   "metadata": {
    "collapsed": true
   },
   "outputs": [],
   "source": [
    "import numpy as np\n",
    "import pylab as py\n",
    "#import scipy as sp\n",
    "import matplotlib.pyplot as plt\n",
    "%matplotlib inline"
   ]
  },
  {
   "cell_type": "markdown",
   "metadata": {},
   "source": [
    "## This is a level 2 header\n",
    "\n",
    "This is text, and a list:\n",
    "* item 1\n",
    "* item 2\n",
    "\n",
    "And now we __stop!!!__\n",
    "\n",
    "Not write, *we wanted also to italicize....*\n",
    "\n",
    "Now we stop.\n",
    "\n",
    "Try latex $ \\sqrt 2 $"
   ]
  },
  {
   "cell_type": "markdown",
   "metadata": {},
   "source": [
    "# Integration - trapezoid rule"
   ]
  },
  {
   "cell_type": "markdown",
   "metadata": {},
   "source": [
    "Define the function you wish to integrate:"
   ]
  },
  {
   "cell_type": "code",
   "execution_count": 4,
   "metadata": {
    "collapsed": true
   },
   "outputs": [],
   "source": [
    "def f(x):\n",
    "    return 3.*x**2"
   ]
  },
  {
   "cell_type": "markdown",
   "metadata": {},
   "source": [
    "### Old style (Fortran-like) for loops"
   ]
  },
  {
   "cell_type": "code",
   "execution_count": 5,
   "metadata": {
    "collapsed": true
   },
   "outputs": [],
   "source": [
    "def trapezoid_old(f, a, b, n):\n",
    "    h = float(b - a) / n\n",
    "    s = 0.0\n",
    "    s =s + f(a)/2.0\n",
    "    for i in range(1, n):\n",
    "        s = s +f(a + i*h)\n",
    "        #print i\n",
    "    s = s + f(b)/2.0\n",
    "    return s * h"
   ]
  },
  {
   "cell_type": "code",
   "execution_count": 6,
   "metadata": {
    "collapsed": false
   },
   "outputs": [
    {
     "name": "stdout",
     "output_type": "stream",
     "text": [
      "1.005\n"
     ]
    }
   ],
   "source": [
    "N = 10\n",
    "print trapezoid_old(f,0.,1.,N)"
   ]
  },
  {
   "cell_type": "markdown",
   "metadata": {},
   "source": [
    "### A more pythonesque way"
   ]
  },
  {
   "cell_type": "markdown",
   "metadata": {},
   "source": [
    "Note:\n",
    "* the syntax reflecting almost verbatim the math formula\n",
    "* the optional parameters a,b,n with default values"
   ]
  },
  {
   "cell_type": "code",
   "execution_count": 7,
   "metadata": {
    "collapsed": false
   },
   "outputs": [],
   "source": [
    "def trapezoid(f,a=0.,b=1.,n=10):\n",
    "    dx = float(b-a)/n\n",
    "    x = a + np.linspace(0.,1.,n+1)\n",
    "    y = f(x)\n",
    "    area = dx * (np.sum(y)-0.5*(y[0]+y[n]))\n",
    "\n",
    "    return area\n",
    "    "
   ]
  },
  {
   "cell_type": "code",
   "execution_count": 8,
   "metadata": {
    "collapsed": false
   },
   "outputs": [
    {
     "name": "stdout",
     "output_type": "stream",
     "text": [
      "1.005\n",
      "1.005\n"
     ]
    }
   ],
   "source": [
    "N = 10\n",
    "print trapezoid(f,0.,1.,N)\n",
    "print trapezoid(f)"
   ]
  },
  {
   "cell_type": "markdown",
   "metadata": {},
   "source": [
    "Note above how one can avoid to specify a,b,n if the default values are ok. "
   ]
  },
  {
   "cell_type": "markdown",
   "metadata": {},
   "source": [
    "#### Using the Numpy library"
   ]
  },
  {
   "cell_type": "code",
   "execution_count": 10,
   "metadata": {
    "collapsed": false
   },
   "outputs": [
    {
     "name": "stdout",
     "output_type": "stream",
     "text": [
      "1.005\n"
     ]
    }
   ],
   "source": [
    "x1 = np.linspace(0,1,N+1)\n",
    "print np.trapz(f(x1),x1)"
   ]
  },
  {
   "cell_type": "code",
   "execution_count": null,
   "metadata": {
    "collapsed": true
   },
   "outputs": [],
   "source": []
  }
 ],
 "metadata": {
  "kernelspec": {
   "display_name": "Python 2",
   "language": "python2",
   "name": "python2"
  },
  "language_info": {
   "codemirror_mode": {
    "name": "ipython",
    "version": 2
   },
   "file_extension": ".py",
   "mimetype": "text/x-python",
   "name": "python",
   "nbconvert_exporter": "python",
   "pygments_lexer": "ipython2",
   "version": "2.7.11"
  }
 },
 "nbformat": 4,
 "nbformat_minor": 0
}

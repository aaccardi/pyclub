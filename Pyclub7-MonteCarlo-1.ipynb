{
 "cells": [
  {
   "cell_type": "markdown",
   "metadata": {},
   "source": [
    "# What are the Random number generators in python?\n",
    "\n",
    "## First :  Import the \"numpy\" and \"random\" libraries to get access to the in-built random number generators"
   ]
  },
  {
   "cell_type": "code",
   "execution_count": 2,
   "metadata": {
    "collapsed": true
   },
   "outputs": [],
   "source": [
    "import numpy as np\n",
    "import random "
   ]
  },
  {
   "cell_type": "markdown",
   "metadata": {},
   "source": [
    "## There are several in-built methods which we can use to generate random numbers\n",
    "### The following examples show \n",
    "#### 1) How to generate a random number in a region you want\n",
    "#### 2) How to generate multiple random numbers, each between 0 and 1"
   ]
  },
  {
   "cell_type": "code",
   "execution_count": 18,
   "metadata": {
    "collapsed": false
   },
   "outputs": [
    {
     "name": "stdout",
     "output_type": "stream",
     "text": [
      "0.146522210099\n",
      "0.264879506841\n",
      "[ 0.59960823  0.02138438  0.97035634  0.4852217   0.85894785  0.81526447\n",
      "  0.89020311  0.30431953  0.17080858  0.37556482]\n",
      "[ 0.83215381  0.28369357  0.82589736  0.18532174  0.56183511  0.34479339\n",
      "  0.28671587  0.72477979  0.53024641  0.3785666 ]\n"
     ]
    }
   ],
   "source": [
    "print(np.random.uniform(0,1))\n",
    "print(random.random())\n",
    "\n",
    "\n",
    "print(np.random.ranf(10))\n",
    "print(np.random.rand(10))\n",
    "\n",
    "\n"
   ]
  },
  {
   "cell_type": "code",
   "execution_count": null,
   "metadata": {
    "collapsed": true
   },
   "outputs": [],
   "source": []
  },
  {
   "cell_type": "code",
   "execution_count": null,
   "metadata": {
    "collapsed": true
   },
   "outputs": [],
   "source": []
  }
 ],
 "metadata": {
  "kernelspec": {
   "display_name": "Python 2",
   "language": "python",
   "name": "python2"
  },
  "language_info": {
   "codemirror_mode": {
    "name": "ipython",
    "version": 2
   },
   "file_extension": ".py",
   "mimetype": "text/x-python",
   "name": "python",
   "nbconvert_exporter": "python",
   "pygments_lexer": "ipython2",
   "version": "2.7.10"
  }
 },
 "nbformat": 4,
 "nbformat_minor": 0
}

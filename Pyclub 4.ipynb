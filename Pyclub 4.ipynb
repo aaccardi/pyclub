{
 "cells": [
  {
   "cell_type": "code",
   "execution_count": 2,
   "metadata": {
    "collapsed": true
   },
   "outputs": [],
   "source": [
    "import numpy as np\n",
    "import pylab as py\n",
    "import matplotlib.pyplot as plt\n",
    "%matplotlib inline"
   ]
  },
  {
   "cell_type": "markdown",
   "metadata": {},
   "source": [
    "# Conditionals and Loops - 2\n"
   ]
  },
  {
   "cell_type": "markdown",
   "metadata": {},
   "source": [
    "# sums  vs. \"vectorizing\""
   ]
  },
  {
   "cell_type": "code",
   "execution_count": 3,
   "metadata": {
    "collapsed": false,
    "scrolled": true
   },
   "outputs": [
    {
     "name": "stdout",
     "output_type": "stream",
     "text": [
      "285\n"
     ]
    }
   ],
   "source": [
    "def func_name(input_val):    # a function calculating sum_i=0..9 i^input_val \n",
    "    result = 0\n",
    "    x = np.arange(0,10,1)\n",
    "    for idx in range(10):\n",
    "        result += x[idx]**input_val\n",
    "    return result\n",
    "\n",
    "out_val = func_name(2)   # call the function\n",
    "print(out_val)    # print reusult"
   ]
  },
  {
   "cell_type": "markdown",
   "metadata": {
    "collapsed": true
   },
   "source": [
    "a quicker way to do the same: \"vectorizing\""
   ]
  },
  {
   "cell_type": "code",
   "execution_count": 4,
   "metadata": {
    "collapsed": false
   },
   "outputs": [
    {
     "name": "stdout",
     "output_type": "stream",
     "text": [
      "285\n"
     ]
    }
   ],
   "source": [
    "def func_name(input_val):    # a function calculating sum_i=0..9 i^input_val \n",
    "    x = np.arange(0,10,1)\n",
    "    y = (x**input_val).sum()  # first exponentiates the whole numpy array x, then sums it selements\n",
    "    return y\n",
    "\n",
    "out_val = func_name(2)   # call the function\n",
    "print(out_val)    # print reusult"
   ]
  },
  {
   "cell_type": "markdown",
   "metadata": {},
   "source": [
    "# Maps"
   ]
  },
  {
   "cell_type": "code",
   "execution_count": 5,
   "metadata": {
    "collapsed": false
   },
   "outputs": [
    {
     "name": "stdout",
     "output_type": "stream",
     "text": [
      "[0 1 2 3 4 5 6 7 8 9]\n",
      "[0, 1, 4, 9, 16, 25, 36, 49, 64, 81]\n",
      "[ 0  1  4  9 16 25 36 49 64 81]\n"
     ]
    }
   ],
   "source": [
    "def func_name(some_number):\n",
    "    return some_number**2\n",
    "\n",
    "array_name = np.arange(0,10,1)\n",
    "print array_name   # Note: this is a numpy array\n",
    "\n",
    "mymap = map(func_name,array_name)   # this runs the function across a set of data one at a time\n",
    "                                    \n",
    "print mymap # Note: the result of each function call is returned in a list...\n",
    "\n",
    "myarray = np.asarray(mymap)  # ...but we can transform it into a numpy array\n",
    "print myarray"
   ]
  },
  {
   "cell_type": "code",
   "execution_count": 30,
   "metadata": {
    "collapsed": false
   },
   "outputs": [
    {
     "name": "stdout",
     "output_type": "stream",
     "text": [
      "[0, 1, 4, 9, 16, 25, 36, 49, 64, 81]\n",
      "285\n"
     ]
    }
   ],
   "source": [
    "# now, numpy can also sum over lists...\n",
    "print mymap\n",
    "print np.sum(mymap)"
   ]
  },
  {
   "cell_type": "code",
   "execution_count": 29,
   "metadata": {
    "collapsed": false
   },
   "outputs": [
    {
     "name": "stdout",
     "output_type": "stream",
     "text": [
      "[ 0  1  4  9 16 25 36 49 64 81]\n",
      "285\n"
     ]
    }
   ],
   "source": [
    "# ... as well as numpy arrays\n",
    "print myarray\n",
    "print np.sum(myarray)"
   ]
  },
  {
   "cell_type": "code",
   "execution_count": 34,
   "metadata": {
    "collapsed": false
   },
   "outputs": [
    {
     "name": "stdout",
     "output_type": "stream",
     "text": [
      "285\n"
     ]
    }
   ],
   "source": [
    "# but we can also do it this way:\n",
    "print myarray.sum()"
   ]
  },
  {
   "cell_type": "code",
   "execution_count": 35,
   "metadata": {
    "collapsed": false
   },
   "outputs": [
    {
     "ename": "AttributeError",
     "evalue": "'list' object has no attribute 'sum'",
     "output_type": "error",
     "traceback": [
      "\u001b[1;31m---------------------------------------------------------------------------\u001b[0m",
      "\u001b[1;31mAttributeError\u001b[0m                            Traceback (most recent call last)",
      "\u001b[1;32m<ipython-input-35-8f42bb7bca66>\u001b[0m in \u001b[0;36m<module>\u001b[1;34m()\u001b[0m\n\u001b[0;32m      1\u001b[0m \u001b[1;31m# ... BUT not with a list\u001b[0m\u001b[1;33m\u001b[0m\u001b[1;33m\u001b[0m\u001b[0m\n\u001b[1;32m----> 2\u001b[1;33m \u001b[1;32mprint\u001b[0m \u001b[0mmymap\u001b[0m\u001b[1;33m.\u001b[0m\u001b[0msum\u001b[0m\u001b[1;33m(\u001b[0m\u001b[1;33m)\u001b[0m\u001b[1;33m\u001b[0m\u001b[0m\n\u001b[0m",
      "\u001b[1;31mAttributeError\u001b[0m: 'list' object has no attribute 'sum'"
     ]
    }
   ],
   "source": [
    "# ... BUT not with a list\n",
    "print mymap.sum()"
   ]
  },
  {
   "cell_type": "markdown",
   "metadata": {},
   "source": [
    "# Least square fitting"
   ]
  },
  {
   "cell_type": "markdown",
   "metadata": {},
   "source": [
    "x = (1,2,3,4,...)    # independent variable\n",
    "\n",
    "yexp = (10, 13, 9,...)   # experimental measurements, supposed to follow  y = a + b*x\n",
    "\n",
    "chi^2 = sum of squared differences between yexp[i] and y(x[i])\n",
    "\n",
    "minimize chi^2 w.r.t. a and b gives the \"best fit\""
   ]
  },
  {
   "cell_type": "markdown",
   "metadata": {},
   "source": [
    "d(chi^2)/da = 0 \n",
    "d(chi^2)/db = 0\n",
    "\n",
    "solving this system gives minimum of chi^2:\n",
    "    \n",
    "    b = sum_1=1..N (x[i]*y[i]) - Sum_i=1..N x[i] * Sum_i=1..N ..........................\n",
    "\n",
    "\n",
    "\n"
   ]
  },
  {
   "cell_type": "code",
   "execution_count": null,
   "metadata": {
    "collapsed": true
   },
   "outputs": [],
   "source": []
  }
 ],
 "metadata": {
  "kernelspec": {
   "display_name": "Python 2",
   "language": "python2",
   "name": "python2"
  },
  "language_info": {
   "codemirror_mode": {
    "name": "ipython",
    "version": 2
   },
   "file_extension": ".py",
   "mimetype": "text/x-python",
   "name": "python",
   "nbconvert_exporter": "python",
   "pygments_lexer": "ipython2",
   "version": "2.7.10"
  }
 },
 "nbformat": 4,
 "nbformat_minor": 0
}

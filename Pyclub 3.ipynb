{
 "cells": [
  {
   "cell_type": "code",
   "execution_count": 17,
   "metadata": {
    "collapsed": true
   },
   "outputs": [],
   "source": [
    "import numpy as np\n",
    "import pylab as py\n",
    "import matplotlib.pyplot as plt\n",
    "%matplotlib inline"
   ]
  },
  {
   "cell_type": "markdown",
   "metadata": {},
   "source": [
    "# Conditionals and Loops"
   ]
  },
  {
   "cell_type": "markdown",
   "metadata": {},
   "source": [
    "# Conditionals"
   ]
  },
  {
   "cell_type": "code",
   "execution_count": 10,
   "metadata": {
    "collapsed": false,
    "scrolled": true
   },
   "outputs": [
    {
     "name": "stdout",
     "output_type": "stream",
     "text": [
      "yes!\n",
      "...and now we can go on...\n"
     ]
    }
   ],
   "source": [
    "n=2.\n",
    "\n",
    "if(n/2==1): print ('yes!')\n",
    "print('...and now we can go on...')"
   ]
  },
  {
   "cell_type": "code",
   "execution_count": 12,
   "metadata": {
    "collapsed": false
   },
   "outputs": [
    {
     "name": "stdout",
     "output_type": "stream",
     "text": [
      "...and now we can go on...\n"
     ]
    }
   ],
   "source": [
    "n=3.\n",
    "\n",
    "if(n/2==1): print ('yes!')\n",
    "    \n",
    "print('...and now we can go on...')"
   ]
  },
  {
   "cell_type": "markdown",
   "metadata": {},
   "source": [
    "&   means  AND  <br>\n",
    "||  means  OR   <br>\n",
    "==  means  EQUIVALENT   (a single = is usd for assignment ofvariables)"
   ]
  },
  {
   "cell_type": "code",
   "execution_count": 8,
   "metadata": {
    "collapsed": false
   },
   "outputs": [
    {
     "name": "stdout",
     "output_type": "stream",
     "text": [
      "no!\n",
      "...and now we can go on...\n"
     ]
    }
   ],
   "source": [
    "n=3.\n",
    "\n",
    "if (n/2==1):\n",
    "    print('yes!')\n",
    "else:\n",
    "    print('no!')\n",
    "\n",
    "print('...and now we can go on...')"
   ]
  },
  {
   "cell_type": "code",
   "execution_count": 16,
   "metadata": {
    "collapsed": false
   },
   "outputs": [
    {
     "name": "stdout",
     "output_type": "stream",
     "text": [
      "yes! equals 2\n",
      "...and now we can go on...\n"
     ]
    }
   ],
   "source": [
    "n=4.\n",
    "\n",
    "if (n/2==1):\n",
    "    print('yes! equals 1')\n",
    "elif (n/2==2):                         # this is a secodn condition, tested if the first fails\n",
    "    print('yes! equals 2')\n",
    "else:\n",
    "    print('no!')\n",
    "\n",
    "print('...and now we can go on...')"
   ]
  },
  {
   "cell_type": "code",
   "execution_count": 15,
   "metadata": {
    "collapsed": false
   },
   "outputs": [
    {
     "name": "stdout",
     "output_type": "stream",
     "text": [
      "no!\n",
      "...and now we can go on...\n"
     ]
    }
   ],
   "source": [
    "n=3.\n",
    "\n",
    "if n/2==1 or n/2==2:        # Note the parentheses are optional\n",
    "    print('yes!')\n",
    "else:\n",
    "    print('no!')\n",
    "\n",
    "print('...and now we can go on...')"
   ]
  },
  {
   "cell_type": "markdown",
   "metadata": {},
   "source": [
    "# 'for' LOOPS"
   ]
  },
  {
   "cell_type": "code",
   "execution_count": 21,
   "metadata": {
    "collapsed": false
   },
   "outputs": [
    {
     "name": "stdout",
     "output_type": "stream",
     "text": [
      "1\n",
      "2\n",
      "3\n",
      "4\n"
     ]
    }
   ],
   "source": [
    "for i in range(1,5):          # repeats 5 times the indented block\n",
    "    print i "
   ]
  },
  {
   "cell_type": "code",
   "execution_count": 19,
   "metadata": {
    "collapsed": false
   },
   "outputs": [
    {
     "name": "stdout",
     "output_type": "stream",
     "text": [
      "[1, 2, 3, 4]\n"
     ]
    }
   ],
   "source": [
    "print(range(1,5))    # range returns a list, and n loops over the elements of the list"
   ]
  },
  {
   "cell_type": "code",
   "execution_count": 22,
   "metadata": {
    "collapsed": false
   },
   "outputs": [
    {
     "name": "stdout",
     "output_type": "stream",
     "text": [
      "1\n",
      "2\n",
      "3\n",
      "Alberto\n",
      "[5, 6]\n"
     ]
    }
   ],
   "source": [
    "# you can loop over whatever you want\n",
    "\n",
    "for n in [1,2,3,'Alberto',[5,6]]:\n",
    "    print n"
   ]
  },
  {
   "cell_type": "markdown",
   "metadata": {},
   "source": [
    "# 'while' Loops"
   ]
  },
  {
   "cell_type": "code",
   "execution_count": null,
   "metadata": {
    "collapsed": true
   },
   "outputs": [],
   "source": [
    "....f"
   ]
  }
 ],
 "metadata": {
  "kernelspec": {
   "display_name": "Python 2",
   "language": "python2",
   "name": "python2"
  },
  "language_info": {
   "codemirror_mode": {
    "name": "ipython",
    "version": 2
   },
   "file_extension": ".py",
   "mimetype": "text/x-python",
   "name": "python",
   "nbconvert_exporter": "python",
   "pygments_lexer": "ipython2",
   "version": "2.7.10"
  }
 },
 "nbformat": 4,
 "nbformat_minor": 0
}

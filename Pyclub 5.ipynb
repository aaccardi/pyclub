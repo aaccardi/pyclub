{
 "cells": [
  {
   "cell_type": "code",
   "execution_count": 1,
   "metadata": {
    "collapsed": true
   },
   "outputs": [],
   "source": [
    "import numpy as np\n",
    "import pylab as py\n",
    "import matplotlib.pyplot as plt\n",
    "%matplotlib inline"
   ]
  },
  {
   "cell_type": "markdown",
   "metadata": {},
   "source": [
    "# Conditionals and Computational complexity"
   ]
  },
  {
   "cell_type": "code",
   "execution_count": 30,
   "metadata": {
    "collapsed": true
   },
   "outputs": [],
   "source": [
    "def quicksort(array,first,last):\n",
    "  if first<last:\n",
    "    mid = partition(array,first,last)\n",
    "    quicksort(array,first,mid)\n",
    "    quicksort(array,mid+1,last)\n",
    "\n",
    "  return array,first,last\n",
    "\n",
    "def partition(array,first,last):\n",
    "  pivot = array[first]\n",
    "  low = first+1\n",
    "  high = last\n",
    "  done = False\n",
    "  while not done:     # Order N \n",
    "    while (low <= high) and (array[low] <= pivot):\n",
    "      low += 1\n",
    "    while (array[high] >= pivot) and (high >= low):\n",
    "      high -= 1\n",
    "    if high<low:\n",
    "      done = True\n",
    "    else: \n",
    "      temp = array[low]         # NOTE: more efficient swapping in Python\n",
    "      array[low]=array[high]    # low, high = high, low\n",
    "      array[high]=temp\n",
    "    print array\n",
    "  temp = array[first]\n",
    "  array[first]=array[last]\n",
    "  array[last]=temp\n",
    "  print array, high\n",
    "\n",
    "  return high"
   ]
  },
  {
   "cell_type": "code",
   "execution_count": 32,
   "metadata": {
    "collapsed": false,
    "scrolled": true
   },
   "outputs": [
    {
     "name": "stdout",
     "output_type": "stream",
     "text": [
      "[4, 3, 80, 10, 12]\n",
      "[12, 3, 80, 10, 4] 1\n",
      "[12, 3, 80, 10, 4]\n",
      "[3, 12, 80, 10, 4] 1\n",
      "[3, 12, 80, 10, 4]\n",
      "[12, 3, 80, 10, 4] 0\n",
      "[12, 3, 80, 10, 4]\n",
      "[12, 3, 4, 10, 80] 4\n",
      "[12, 3, 4, 10, 80]\n",
      "[12, 3, 80, 10, 4] 2\n",
      "[12, 3, 80, 10, 4]\n",
      "[12, 3, 80, 4, 10] 4\n",
      "[12, 3, 80, 4, 10]\n",
      "[12, 3, 80, 10, 4] 3\n"
     ]
    },
    {
     "data": {
      "text/plain": [
       "([12, 3, 80, 10, 4], 0, 4)"
      ]
     },
     "execution_count": 32,
     "metadata": {},
     "output_type": "execute_result"
    }
   ],
   "source": [
    "array = [4,3,80,10,12]\n",
    "first = 0\n",
    "last = len(array)-1\n",
    "quicksort(array,first,last)"
   ]
  },
  {
   "cell_type": "code",
   "execution_count": null,
   "metadata": {
    "collapsed": true
   },
   "outputs": [],
   "source": []
  }
 ],
 "metadata": {
  "kernelspec": {
   "display_name": "Python 2",
   "language": "python2",
   "name": "python2"
  },
  "language_info": {
   "codemirror_mode": {
    "name": "ipython",
    "version": 2
   },
   "file_extension": ".py",
   "mimetype": "text/x-python",
   "name": "python",
   "nbconvert_exporter": "python",
   "pygments_lexer": "ipython2",
   "version": "2.7.10"
  }
 },
 "nbformat": 4,
 "nbformat_minor": 0
}

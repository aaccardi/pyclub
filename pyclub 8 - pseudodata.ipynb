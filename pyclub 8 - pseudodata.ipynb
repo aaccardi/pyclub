{
 "cells": [
  {
   "cell_type": "code",
   "execution_count": 1,
   "metadata": {
    "collapsed": true
   },
   "outputs": [],
   "source": [
    "import sys,os\n",
    "import pylab as py\n",
    "import numpy as np\n",
    "from scipy.optimize import leastsq\n",
    "%matplotlib inline  "
   ]
  },
  {
   "cell_type": "code",
   "execution_count": 2,
   "metadata": {
    "collapsed": false
   },
   "outputs": [],
   "source": [
    "# simulate data\n",
    "X=np.linspace(0.1,0.9,10)\n",
    "Theory=0.5*X+0.1\n",
    "ERR=0.05*Theory/Theory\n",
    "Data = Theory + np.random.randn(Theory.size)*ERR"
   ]
  },
  {
   "cell_type": "code",
   "execution_count": 3,
   "metadata": {
    "collapsed": false
   },
   "outputs": [
    {
     "name": "stdout",
     "output_type": "stream",
     "text": [
      "[ 1.5  2.   2.5  3.   3.5  4.   4.5  5. ] \n",
      "[ 50.  57.  65.  71.  76.  82.  89.  95.] \n",
      "[ 15.  16.  12.  17.   9.  13.  19.  21.]\n"
     ]
    }
   ],
   "source": [
    "# Read in Old Faithful data\n",
    "f = open('oldfaithful2.dat', 'r')\n",
    "header1 = f.readline()\n",
    "header2 = f.readline()\n",
    "header3 = f.readline()\n",
    "header4 = f.readline()\n",
    "\n",
    "data_x = []\n",
    "data_y = []\n",
    "data_err = []\n",
    "\n",
    "for line in f:\n",
    "    lfine = line.strip()\n",
    "    x,y,err = line.split()\n",
    "    data_x.append(float(x))\n",
    "    data_y.append(float(y))\n",
    "    data_err.append(float(err))\n",
    "    \n",
    "X = np.array(data_x)\n",
    "Data = np.array(data_y)\n",
    "Err = np.array(data_err) * 1\n",
    "\n",
    "print X,'\\n',Data,'\\n',Err"
   ]
  },
  {
   "cell_type": "code",
   "execution_count": 14,
   "metadata": {
    "collapsed": false
   },
   "outputs": [
    {
     "name": "stdout",
     "output_type": "stream",
     "text": [
      "chi2_npts =  0.00305873467875 chi2_dof = 0.004078312905 \n",
      "pars =  [ 12.56685159  32.27160961] \n",
      "errors = [  5.07213736  16.75401978]\n",
      "cov =\n",
      "[[  25.7265774   -81.29977542]\n",
      " [ -81.29977542  280.69717878]]\n",
      "cor =\n",
      "[[ 1.        -0.9567078]\n",
      " [-0.9567078  1.       ]]\n",
      "cov_gnuplot =\n",
      "[[ 0.10492103 -0.33156592]\n",
      " [-0.33156592  1.14477093]]\n",
      "err_gnuplot = [0.32391516269909637, 1.0699396836330051]\n"
     ]
    },
    {
     "data": {
      "image/png": "[encoded data removed]",
      "text/plain": [
       "<matplotlib.figure.Figure at 0x7fa964d6a510>"
      ]
     },
     "metadata": {},
     "output_type": "display_data"
    }
   ],
   "source": [
    "# # simulate data - Gaussian distribution around straight line, fixed std deviation\n",
    "# X=np.linspace(0.1,0.9,10)\n",
    "# Theory=0.5*X+0.1\n",
    "# ERR=0.05*Theory/Theory\n",
    "# Data = Theory + np.random.randn(Theory.size)*ERR\n",
    "\n",
    "ERR = Err\n",
    "#ERR = Data #*0.1\n",
    "\n",
    "### fit data\n",
    "model=lambda p,x:p[0]*x+p[1]  # define the model\n",
    "res=lambda p:(Data-model(p,X))/ERR # define the residuals function (needed by 'leastsq')\n",
    "fit=leastsq(res,np.ones(2),full_output = 1)\n",
    "fitpar,cov,infodict,errmsg,ier = fit\n",
    "# calculates chi^2, errors, cov and cor matrices\n",
    "chi2 = (infodict['fvec']**2).sum()  # chi^2, various flavors\n",
    "chi2_npts = chi2 / X.size \n",
    "chi2_dof = chi2 / (X.size-2) \n",
    "errpar = np.array([cov[i,i]**0.5 for i in [0,1]])  # error on parameters\n",
    "dmat = np.asmatrix(np.diag(1/errpar))\n",
    "covmat = np.asmatrix(cov)   # covariance matrix\n",
    "cormat = dmat*covmat*dmat   # correlastion matrix\n",
    "\n",
    "### model and uncertainty    \n",
    "Y=model(fitpar,X)  # array with model evaluated at X\n",
    "dY=np.array([(x,1) for x in X]).T   # array with model's gradient evaluated at X\n",
    "sigmaY=np.einsum('ik,ij,jk->k',dY,cov,dY)**0.5  # model uncertainty array\n",
    "\n",
    "### make plot\n",
    "ax=py.subplot(111)\n",
    "ax.errorbar(X,Data,yerr=ERR,fmt='k.')\n",
    "ax.plot(X,model(fitpar,X),'r-')\n",
    "ax.plot(X,model(fitpar,X)+sigmaY,'b--')\n",
    "ax.plot(X,model(fitpar,X)-sigmaY,'b--')\n",
    "delX = max(X)-min(X)\n",
    "left = min(X)-0.1*delX\n",
    "right = max(X)+0.1*delX\n",
    "ax.set_xlim(left,right)\n",
    "#ax.set_xlim(1,5.5)\n",
    "\n",
    "### Print results of fit\n",
    "print 'chi2_npts = ', chi2_npts, 'chi2_dof =', chi2_dof, '\\npars = ', fitpar, '\\nerrors =', errpar\n",
    "print 'cov =\\n', covmat\n",
    "print 'cor =\\n', cormat\n",
    "#... Divide covariance and errors by chi^2/dof to obtain teh definition used by gnuplot\n",
    "cov_adj = cov*chi2_dof\n",
    "print 'cov_gnuplot =\\n', cov_adj\n",
    "print 'err_gnuplot =', [cov_adj[0,0]**0.5, cov_adj[1,1]**0.5]\n",
    "\n",
    "#print np.average(sigmaY/Y)"
   ]
  },
  {
   "cell_type": "code",
   "execution_count": null,
   "metadata": {
    "collapsed": true
   },
   "outputs": [],
   "source": []
  }
 ],
 "metadata": {
  "kernelspec": {
   "display_name": "Python 2",
   "language": "python2",
   "name": "python2"
  },
  "language_info": {
   "codemirror_mode": {
    "name": "ipython",
    "version": 2
   },
   "file_extension": ".py",
   "mimetype": "text/x-python",
   "name": "python",
   "nbconvert_exporter": "python",
   "pygments_lexer": "ipython2",
   "version": "2.7.11"
  }
 },
 "nbformat": 4,
 "nbformat_minor": 0
}
